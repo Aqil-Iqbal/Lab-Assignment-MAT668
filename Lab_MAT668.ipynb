{
  "nbformat": 4,
  "nbformat_minor": 0,
  "metadata": {
    "kernelspec": {
      "display_name": "Python 3",
      "language": "python",
      "name": "python3"
    },
    "language_info": {
      "codemirror_mode": {
        "name": "ipython",
        "version": 3
      },
      "file_extension": ".py",
      "mimetype": "text/x-python",
      "name": "python",
      "nbconvert_exporter": "python",
      "pygments_lexer": "ipython3",
      "version": "3.5.1"
    },
    "colab": {
      "name": "Lab MAT668.ipynb",
      "provenance": [],
      "include_colab_link": true
    }
  },
  "cells": [
    {
      "cell_type": "markdown",
      "metadata": {
        "id": "view-in-github",
        "colab_type": "text"
      },
      "source": [
        "<a href=\"https://colab.research.google.com/github/Aqil-Iqbal/Lab-Assignment-MAT668/blob/master/Lab_MAT668.ipynb\" target=\"_parent\"><img src=\"https://colab.research.google.com/assets/colab-badge.svg\" alt=\"Open In Colab\"/></a>"
      ]
    },
    {
      "cell_type": "markdown",
      "metadata": {
        "id": "5iepuIRupPrN"
      },
      "source": [
        "# MAT668\n",
        "## Lab 1"
      ]
    },
    {
      "cell_type": "code",
      "metadata": {
        "id": "sg4ie1rxpPrP",
        "outputId": "12661dec-38a8-4c6a-a8c5-e2ac0eea0c28",
        "colab": {
          "base_uri": "https://localhost:8080/",
          "height": 34
        }
      },
      "source": [
        "%pylab inline"
      ],
      "execution_count": null,
      "outputs": [
        {
          "output_type": "stream",
          "text": [
            "Populating the interactive namespace from numpy and matplotlib\n"
          ],
          "name": "stdout"
        }
      ]
    },
    {
      "cell_type": "markdown",
      "metadata": {
        "id": "vEeA1msOpPrT"
      },
      "source": [
        "### Q1\n",
        "Assign your name to a variable called \"my_name\". <br />\n",
        "Print your name using \"print\" function. <br />\n",
        "https://docs.python.org/3/tutorial/introduction.html#strings."
      ]
    },
    {
      "cell_type": "code",
      "metadata": {
        "id": "AQ27geXWpPrU",
        "colab": {
          "base_uri": "https://localhost:8080/"
        },
        "outputId": "4fcc0af4-5121-4d11-f70f-402d55ce7100"
      },
      "source": [
        "my_name = \"Muhammad Aqil Iqbal bin Jufri Din\"\n",
        "print(my_name)"
      ],
      "execution_count": 1,
      "outputs": [
        {
          "output_type": "stream",
          "name": "stdout",
          "text": [
            "Muhammad Aqil Iqbal bin Jufri Din\n"
          ]
        }
      ]
    },
    {
      "cell_type": "markdown",
      "metadata": {
        "id": "AomUYYZ_pPrW"
      },
      "source": [
        "<hr />"
      ]
    },
    {
      "cell_type": "markdown",
      "metadata": {
        "id": "kMHHvI4MpPrX"
      },
      "source": [
        "### Q2\n",
        "Define a list called \"nodes\" of 10 nodes (0, 1, ..., 9) using \"range\" function.<br />\n",
        "Convert the range into a list using \"list\" function.<br />\n",
        "Print the list of nodes using \"print\" function.\n",
        "\n",
        "https://docs.python.org/3/tutorial/introduction.html#lists <br />\n",
        "https://docs.python.org/3/tutorial/controlflow.html#the-range-function\n",
        "\n"
      ]
    },
    {
      "cell_type": "code",
      "metadata": {
        "id": "lO3ejI21pPrX",
        "colab": {
          "base_uri": "https://localhost:8080/"
        },
        "outputId": "604beebf-d5cd-4f5e-ff38-914a330b9cc2"
      },
      "source": [
        "nodes = list(range(10))\n",
        "print(nodes)"
      ],
      "execution_count": 2,
      "outputs": [
        {
          "output_type": "stream",
          "name": "stdout",
          "text": [
            "[0, 1, 2, 3, 4, 5, 6, 7, 8, 9]\n"
          ]
        }
      ]
    },
    {
      "cell_type": "markdown",
      "metadata": {
        "id": "IhQaOSjfpPra"
      },
      "source": [
        "<hr />"
      ]
    },
    {
      "cell_type": "markdown",
      "metadata": {
        "id": "Fq4CzH-GpPra"
      },
      "source": [
        "### Q3\n",
        "Define a list using your student ID named \"studid\".<br >\n",
        "For example, if your student ID is \"2015234031\",<br />\n",
        "your list is [2, 0, 1, 5, 2, 3, 4, 0, 3, 1].<br />\n",
        "Print it using  \"print\" function."
      ]
    },
    {
      "cell_type": "code",
      "metadata": {
        "id": "cJJBqUHapPrb",
        "colab": {
          "base_uri": "https://localhost:8080/"
        },
        "outputId": "68ad6492-f770-4d59-9f7f-9d24e81dd02b"
      },
      "source": [
        "studid = [2, 0, 2, 3, 3, 8, 7, 5, 8, 5]\n",
        "print(studid)"
      ],
      "execution_count": 4,
      "outputs": [
        {
          "output_type": "stream",
          "name": "stdout",
          "text": [
            "[2, 0, 2, 3, 3, 8, 7, 5, 8, 5]\n"
          ]
        }
      ]
    },
    {
      "cell_type": "markdown",
      "metadata": {
        "id": "L3cgesB_pPrd"
      },
      "source": [
        "<hr />"
      ]
    },
    {
      "cell_type": "markdown",
      "metadata": {
        "id": "iyLiIstFpPre"
      },
      "source": [
        "### Q4\n",
        "Use \"zip\" function to create a sequence of tuple and called it \"edges\".<br />\n",
        "Each tuple defines an edge between two nodes from the list nodes <br />\n",
        "and the list studid (nodes[i], stud[i]).<br />\n",
        "Then, use \"list\" function  to convert \"edges\" sequence into a list.<br />\n",
        "Print the list of edges using \"print\" function.<br />\n",
        "Example:<br />\n",
        "If nodes = [0, 1, 2, 3, 4, 5, 6, 7, 8, 9] and  studid = [2, 0, 1, 5, 2, 3, 4, 0, 3, 1]<br />\n",
        "then, edges = [(0, 2), (1, 0), (2, 1), (3, 5), (4, 2), (5, 3), (6, 4), (7, 0), (8, 3), (9, 1)]\n",
        "\n",
        "https://docs.python.org/3/tutorial/datastructures.html#nested-list-comprehensions"
      ]
    },
    {
      "cell_type": "code",
      "metadata": {
        "id": "kCQyKJKnpPrf",
        "colab": {
          "base_uri": "https://localhost:8080/"
        },
        "outputId": "e1f651f7-dc6e-4a63-ecde-4d8d9c53542b"
      },
      "source": [
        "nodes = [0, 1, 2, 3, 4, 5, 6, 7, 8, 9]\n",
        "studid = [2, 0, 1, 5, 2, 3, 4, 0, 3, 1]\n",
        "edges = list(zip(nodes, studid))\n",
        "print(edges)"
      ],
      "execution_count": 5,
      "outputs": [
        {
          "output_type": "stream",
          "name": "stdout",
          "text": [
            "[(0, 2), (1, 0), (2, 1), (3, 5), (4, 2), (5, 3), (6, 4), (7, 0), (8, 3), (9, 1)]\n"
          ]
        }
      ]
    },
    {
      "cell_type": "markdown",
      "metadata": {
        "id": "gmJzPcAhpPrh"
      },
      "source": [
        "<hr />"
      ]
    },
    {
      "cell_type": "markdown",
      "metadata": {
        "id": "1Ac7kBuTpPrh"
      },
      "source": [
        "### Q5\n",
        "Import networkx module as nx.\n",
        "\n",
        "Then, create an empty graph G with no nodes and no edges.\n",
        "\n",
        "https://networkx.github.io/documentation/stable/tutorial.html#creating-a-graph\n"
      ]
    },
    {
      "cell_type": "code",
      "metadata": {
        "id": "XkaBiYPJpPri",
        "colab": {
          "base_uri": "https://localhost:8080/"
        },
        "outputId": "04201302-1963-4ef3-e67d-a22a717b612a"
      },
      "source": [
        "import networkx as nx\n",
        "G = nx.Graph()\n",
        "print(\"Nodes in G:\", G.nodes())\n",
        "print(\"Edges in G:\", G.edges())"
      ],
      "execution_count": 6,
      "outputs": [
        {
          "output_type": "stream",
          "name": "stdout",
          "text": [
            "Nodes in G: []\n",
            "Edges in G: []\n"
          ]
        }
      ]
    },
    {
      "cell_type": "markdown",
      "metadata": {
        "id": "Xr6cAfj_pPrk"
      },
      "source": [
        "<hr />"
      ]
    },
    {
      "cell_type": "markdown",
      "metadata": {
        "id": "rMYBtFj0pPrl"
      },
      "source": [
        "### Q6\n",
        "Add \"edges\" to G using \"add_edges_from\" function.\n",
        "\n",
        "https://networkx.github.io/documentation/stable/tutorial.html#edges"
      ]
    },
    {
      "cell_type": "code",
      "metadata": {
        "id": "D5KhwXUkpPrm",
        "colab": {
          "base_uri": "https://localhost:8080/"
        },
        "outputId": "db1dd31a-647b-4a82-e7dd-39fc16847e2d"
      },
      "source": [
        "import networkx as nx\n",
        "edges = [(0, 2), (1, 0), (2, 1), (3, 5), (4, 2), (5, 3), (6, 4), (7, 0), (8, 3), (9, 1)]\n",
        "G = nx.Graph()\n",
        "G.add_edges_from(edges)\n",
        "print(\"Nodes in G:\", G.nodes())\n",
        "print(\"Edges in G:\", G.edges())"
      ],
      "execution_count": 7,
      "outputs": [
        {
          "output_type": "stream",
          "name": "stdout",
          "text": [
            "Nodes in G: [0, 2, 1, 3, 5, 4, 6, 7, 8, 9]\n",
            "Edges in G: [(0, 2), (0, 1), (0, 7), (2, 1), (2, 4), (1, 9), (3, 5), (3, 8), (4, 6)]\n"
          ]
        }
      ]
    },
    {
      "cell_type": "markdown",
      "metadata": {
        "id": "jGMLq-NkpPro"
      },
      "source": [
        "<hr />"
      ]
    },
    {
      "cell_type": "markdown",
      "metadata": {
        "id": "TMAP5tNppPrp"
      },
      "source": [
        "### Q7\n",
        "Print all nodes using \"list\" and print\" function.\n",
        "\n",
        "https://networkx.github.io/documentation/stable/tutorial.html#edges"
      ]
    },
    {
      "cell_type": "code",
      "metadata": {
        "id": "irvqMbyhpPrp",
        "colab": {
          "base_uri": "https://localhost:8080/"
        },
        "outputId": "86008180-e60d-4d6e-8600-19037fe673a2"
      },
      "source": [
        "import networkx as nx\n",
        "edges = [(0, 2), (1, 0), (2, 1), (3, 5), (4, 2), (5, 3), (6, 4), (7, 0), (8, 3), (9, 1)]\n",
        "G = nx.Graph()\n",
        "G.add_edges_from(edges)\n",
        "print(\"Nodes in G:\", list(G.nodes()))"
      ],
      "execution_count": 8,
      "outputs": [
        {
          "output_type": "stream",
          "name": "stdout",
          "text": [
            "Nodes in G: [0, 2, 1, 3, 5, 4, 6, 7, 8, 9]\n"
          ]
        }
      ]
    },
    {
      "cell_type": "markdown",
      "metadata": {
        "id": "_DOMJO-zpPrr"
      },
      "source": [
        "<hr />"
      ]
    },
    {
      "cell_type": "markdown",
      "metadata": {
        "id": "zTZd2f0JpPrs"
      },
      "source": [
        "### Q8\n",
        "Print all edges using \"list\" and print\" function.\n",
        "\n",
        "https://networkx.github.io/documentation/stable/tutorial.html#edges"
      ]
    },
    {
      "cell_type": "code",
      "metadata": {
        "id": "YDacB8IopPrt",
        "colab": {
          "base_uri": "https://localhost:8080/"
        },
        "outputId": "0e663e86-8d7c-4263-80b9-672cced3fc73"
      },
      "source": [
        "import networkx as nx\n",
        "edges = [(0, 2), (1, 0), (2, 1), (3, 5), (4, 2), (5, 3), (6, 4), (7, 0), (8, 3), (9, 1)]\n",
        "G = nx.Graph()\n",
        "G.add_edges_from(edges)\n",
        "print(\"Edges in G:\", list(G.edges()))"
      ],
      "execution_count": 9,
      "outputs": [
        {
          "output_type": "stream",
          "name": "stdout",
          "text": [
            "Edges in G: [(0, 2), (0, 1), (0, 7), (2, 1), (2, 4), (1, 9), (3, 5), (3, 8), (4, 6)]\n"
          ]
        }
      ]
    },
    {
      "cell_type": "markdown",
      "metadata": {
        "id": "mRG0TKy3pPrv"
      },
      "source": [
        "<hr />"
      ]
    },
    {
      "cell_type": "markdown",
      "metadata": {
        "id": "7SdOBQkgpPrx"
      },
      "source": [
        "### Q9\n",
        "Print the number of nodes using <br />\"number_of_nodes\" functon, and <br />\n",
        "\"print\" function.\n",
        "\n",
        "https://networkx.github.io/documentation/stable/tutorial.html#edges"
      ]
    },
    {
      "cell_type": "code",
      "metadata": {
        "id": "1YAgQvZPpPry",
        "colab": {
          "base_uri": "https://localhost:8080/"
        },
        "outputId": "c62f64ee-121b-497c-fdbf-99c0e6ec8982"
      },
      "source": [
        "import networkx as nx\n",
        "edges = [(0, 2), (1, 0), (2, 1), (3, 5), (4, 2), (5, 3), (6, 4), (7, 0), (8, 3), (9, 1)]\n",
        "G = nx.Graph()\n",
        "G.add_edges_from(edges)\n",
        "print(\"Number of nodes in G:\", G.number_of_nodes())"
      ],
      "execution_count": 10,
      "outputs": [
        {
          "output_type": "stream",
          "name": "stdout",
          "text": [
            "Number of nodes in G: 10\n"
          ]
        }
      ]
    },
    {
      "cell_type": "markdown",
      "metadata": {
        "id": "u3XDz_7ppPr0"
      },
      "source": [
        "<hr />"
      ]
    },
    {
      "cell_type": "markdown",
      "metadata": {
        "id": "mnPJ2DzYpPr1"
      },
      "source": [
        "### Q10\n",
        "Print the number of edges using <br />\"number_of_edges\" function , and<br /> \"print\" function."
      ]
    },
    {
      "cell_type": "code",
      "metadata": {
        "id": "HaIB1lp_pPr2",
        "colab": {
          "base_uri": "https://localhost:8080/"
        },
        "outputId": "aaf00cd2-cb0f-4478-cb0f-59ada3368178"
      },
      "source": [
        "import networkx as nx\n",
        "edges = [(0, 2), (1, 0), (2, 1), (3, 5), (4, 2), (5, 3), (6, 4), (7, 0), (8, 3), (9, 1)]\n",
        "G = nx.Graph()\n",
        "G.add_edges_from(edges)\n",
        "print(\"Number of edges in G:\", G.number_of_edges())"
      ],
      "execution_count": 12,
      "outputs": [
        {
          "output_type": "stream",
          "name": "stdout",
          "text": [
            "Number of edges in G: 9\n"
          ]
        }
      ]
    },
    {
      "cell_type": "markdown",
      "metadata": {
        "id": "Zp4SBR4BpPr4"
      },
      "source": [
        "<hr />"
      ]
    },
    {
      "cell_type": "markdown",
      "metadata": {
        "collapsed": false,
        "id": "XWqTWYhmpPr5"
      },
      "source": [
        "### Q11\n",
        "Print the list of nodes adjacent to node 2 (neighbour of node 2)<br />\n",
        "using \"neighbors\" function<br />\n",
        "and \"print\" function.\n",
        "\n",
        "https://networkx.github.io/documentation/stable/tutorial.html#edges"
      ]
    },
    {
      "cell_type": "code",
      "metadata": {
        "id": "_RT6kP3EpPr6",
        "colab": {
          "base_uri": "https://localhost:8080/"
        },
        "outputId": "893f18ae-b6d1-4a6b-a774-cde2b02c6a33"
      },
      "source": [
        "import networkx as nx\n",
        "edges = [(0, 2), (1, 0), (2, 1), (3, 5), (4, 2), (5, 3), (6, 4), (7, 0), (8, 3), (9, 1)]\n",
        "G = nx.Graph()\n",
        "G.add_edges_from(edges)\n",
        "print(\"Neighbors of node 2:\", list(G.neighbors(2)))"
      ],
      "execution_count": 13,
      "outputs": [
        {
          "output_type": "stream",
          "name": "stdout",
          "text": [
            "Neighbors of node 2: [0, 1, 4]\n"
          ]
        }
      ]
    },
    {
      "cell_type": "markdown",
      "metadata": {
        "id": "qKo7PEHRpPr9"
      },
      "source": [
        "<hr />"
      ]
    },
    {
      "cell_type": "markdown",
      "metadata": {
        "id": "d6ARhDbCpPr9"
      },
      "source": [
        "### Q12\n",
        "Print all the nodes and a list of their respective neighbours side by side using<br />\n",
        "\"for loop\", <br />\n",
        "\"nodes\" function, <br />\n",
        "\"neighbors\" function, and <br />\n",
        "\"print\" function.\n",
        "\n",
        "Example:<br />\n",
        "0 [1, 2, 7]<br />\n",
        "1 [0, 9, 2]<br />\n",
        "2 [0, 1, 4]<br />\n",
        "3 [8, 5]<br />\n",
        "4 [2, 6]<br />\n",
        "5 [3]<br />\n",
        "6 [4]<br />\n",
        "7 [0]<br />\n",
        "8 [3]<br />\n",
        "9 [1]\n",
        "\n",
        "https://docs.python.org/3/tutorial/controlflow.html#for-statements <br />\n",
        "https://networkx.github.io/documentation/stable/tutorial.html#edges"
      ]
    },
    {
      "cell_type": "code",
      "metadata": {
        "id": "P0t7CHOdpPr-",
        "colab": {
          "base_uri": "https://localhost:8080/"
        },
        "outputId": "8fd43e32-df9e-4f71-eba8-56ad54df1922"
      },
      "source": [
        "import networkx as nx\n",
        "edges = [(0, 2), (1, 0), (2, 1), (3, 5), (4, 2), (5, 3), (6, 4), (7, 0), (8, 3), (9, 1)]\n",
        "G = nx.Graph()\n",
        "G.add_edges_from(edges)\n",
        "for node in G.nodes():\n",
        "    print(node, list(G.neighbors(node)))"
      ],
      "execution_count": 14,
      "outputs": [
        {
          "output_type": "stream",
          "name": "stdout",
          "text": [
            "0 [2, 1, 7]\n",
            "2 [0, 1, 4]\n",
            "1 [0, 2, 9]\n",
            "3 [5, 8]\n",
            "5 [3]\n",
            "4 [2, 6]\n",
            "6 [4]\n",
            "7 [0]\n",
            "8 [3]\n",
            "9 [1]\n"
          ]
        }
      ]
    },
    {
      "cell_type": "markdown",
      "metadata": {
        "id": "-n1lg81NpPsB"
      },
      "source": [
        "<hr />"
      ]
    },
    {
      "cell_type": "markdown",
      "metadata": {
        "id": "9Ffba_iYpPsC"
      },
      "source": [
        "### Q13\n",
        "Print the degree for node 2 using the \"degree\" function , and <br />\n",
        "\"print\" function.<br />\n",
        "Please ignore parameter \"weight\".\n",
        "\n",
        "https://networkx.github.io/documentation/stable/tutorial.html#edges"
      ]
    },
    {
      "cell_type": "code",
      "metadata": {
        "id": "1e6QqN7VpPsD",
        "colab": {
          "base_uri": "https://localhost:8080/"
        },
        "outputId": "604ee488-5202-4fc5-e91c-ca4d95a322fb"
      },
      "source": [
        "import networkx as nx\n",
        "edges = [(0, 2), (1, 0), (2, 1), (3, 5), (4, 2), (5, 3), (6, 4), (7, 0), (8, 3), (9, 1)]\n",
        "G = nx.Graph()\n",
        "G.add_edges_from(edges)\n",
        "print(\"Degree of node 2:\", G.degree(2))"
      ],
      "execution_count": 15,
      "outputs": [
        {
          "output_type": "stream",
          "name": "stdout",
          "text": [
            "Degree of node 2: 3\n"
          ]
        }
      ]
    },
    {
      "cell_type": "markdown",
      "metadata": {
        "id": "h9dAJ9lqpPsI"
      },
      "source": [
        "<hr />"
      ]
    },
    {
      "cell_type": "markdown",
      "metadata": {
        "id": "RTMnFYAwpPsJ"
      },
      "source": [
        "### Q14\n",
        "Print all the nodes and their respective degree side by side using<br />\n",
        "\"for loop\", <br />\n",
        "\"nodes\" function, <br />\n",
        "\"degree\" function, and <br />\n",
        "\"print\" function.\n",
        "\n",
        "Example:<br />\n",
        "0 3<br />\n",
        "1 3<br />\n",
        "2 3<br />\n",
        "3 2<br />\n",
        "4 2<br />\n",
        "5 1<br />\n",
        "6 1<br />\n",
        "7 1<br />\n",
        "8 1<br />\n",
        "9 1\n",
        "\n",
        "https://docs.python.org/3/tutorial/controlflow.html#for-statements <br />\n",
        "https://networkx.github.io/documentation/stable/tutorial.html#edges<br />\n"
      ]
    },
    {
      "cell_type": "markdown",
      "metadata": {
        "id": "2UNrj3-OpPsK"
      },
      "source": [
        "<hr />"
      ]
    },
    {
      "cell_type": "code",
      "metadata": {
        "id": "0tcQ-x9rpPsL",
        "colab": {
          "base_uri": "https://localhost:8080/"
        },
        "outputId": "dc76fb2c-1fb3-4f45-b7b4-d737f162fc5f"
      },
      "source": [
        "import networkx as nx\n",
        "edges = [(0, 2), (1, 0), (2, 1), (3, 5), (4, 2), (5, 3), (6, 4), (7, 0), (8, 3), (9, 1)]\n",
        "G = nx.Graph()\n",
        "G.add_edges_from(edges)\n",
        "for node in G.nodes():\n",
        "    print(node, G.degree(node))"
      ],
      "execution_count": 16,
      "outputs": [
        {
          "output_type": "stream",
          "name": "stdout",
          "text": [
            "0 3\n",
            "2 3\n",
            "1 3\n",
            "3 2\n",
            "5 1\n",
            "4 2\n",
            "6 1\n",
            "7 1\n",
            "8 1\n",
            "9 1\n"
          ]
        }
      ]
    },
    {
      "cell_type": "markdown",
      "metadata": {
        "id": "As3KK7fEpPsN"
      },
      "source": [
        "<hr />"
      ]
    },
    {
      "cell_type": "markdown",
      "metadata": {
        "id": "bH_cCMGvpPsO"
      },
      "source": [
        "### Q15\n",
        "\"G.degree()\" is of type dict. <br />\n",
        "\"G.degree().keys()\" will return all the nodes.<br />\n",
        "\"G.degree().values()\" will return all the degrees.<br />\n",
        "\n",
        "Create a degree sequence in descending order using<br />\n",
        "\"G.degree().values()\" function and \"list\" function<br />\n",
        "and assign it to variable called \"degree_sequence\"\n",
        "\n",
        "Print \"degree_sequence\" using \"print\" function.\n",
        "\n",
        "Note:\n",
        "\n",
        "Example: <br />\n",
        "[3, 3, 3, 2, 2, 1, 1, 1, 1, 1]\n",
        "\n",
        "https://docs.python.org/3/tutorial/introduction.html#lists <br />\n",
        "https://docs.python.org/3/tutorial/datastructures.html#dictionaries"
      ]
    },
    {
      "cell_type": "code",
      "metadata": {
        "id": "6LIJfvi_pPsP",
        "colab": {
          "base_uri": "https://localhost:8080/"
        },
        "outputId": "8a1acc1f-a4eb-4552-922c-6595ba13c1f2"
      },
      "source": [
        "import networkx as nx\n",
        "edges = [(0, 2), (1, 0), (2, 1), (3, 5), (4, 2), (5, 3), (6, 4), (7, 0), (8, 3), (9, 1)]\n",
        "G = nx.Graph()\n",
        "G.add_edges_from(edges)\n",
        "degree_sequence = sorted(dict(G.degree()).values(), reverse=True)\n",
        "print(\"Degree sequence:\", degree_sequence)\n"
      ],
      "execution_count": 22,
      "outputs": [
        {
          "output_type": "stream",
          "name": "stdout",
          "text": [
            "Degree sequence: [3, 3, 3, 2, 2, 1, 1, 1, 1, 1]\n"
          ]
        }
      ]
    },
    {
      "cell_type": "markdown",
      "metadata": {
        "id": "0dRAhb9SpPsS"
      },
      "source": [
        "<hr />"
      ]
    },
    {
      "cell_type": "markdown",
      "metadata": {
        "id": "hQ42I9CnpPsT"
      },
      "source": [
        "### Q16\n",
        "Find the maximum vertex degree $\\Delta$ by applying<br />\n",
        "\"max\" function to the list \"degree_sequence\" <br />\n",
        "and assign it to variable \"max_degree\".\n",
        "\n",
        "Print variable \"max_degree\" using \"print\" function."
      ]
    },
    {
      "cell_type": "code",
      "metadata": {
        "id": "5dZszNKspPsU",
        "colab": {
          "base_uri": "https://localhost:8080/"
        },
        "outputId": "daad1f85-2bd4-4138-8d1d-d40875e7f5fa"
      },
      "source": [
        "import networkx as nx\n",
        "edges = [(0, 2), (1, 0), (2, 1), (3, 5), (4, 2), (5, 3), (6, 4), (7, 0), (8, 3), (9, 1)]\n",
        "G = nx.Graph()\n",
        "G.add_edges_from(edges)\n",
        "degree_sequence = sorted(dict(G.degree()).values(), reverse=True)\n",
        "max_degree = max(degree_sequence)\n",
        "print(\"Maximum degree (Δ):\", max_degree)"
      ],
      "execution_count": 24,
      "outputs": [
        {
          "output_type": "stream",
          "name": "stdout",
          "text": [
            "Maximum degree (Δ): 3\n"
          ]
        }
      ]
    },
    {
      "cell_type": "markdown",
      "metadata": {
        "id": "i0AoM5UppPsW"
      },
      "source": [
        "<hr />"
      ]
    },
    {
      "cell_type": "markdown",
      "metadata": {
        "id": "gojNOhlfpPsX"
      },
      "source": [
        "### Q17\n",
        "Find the minimum vertex degree $\\delta$ by applying<br />\n",
        "\"min\" function to the list \"degree_sequence\"<br />\n",
        "and assign it to variable \"min_degree\".\n",
        "\n",
        "Print variable \"min_degree\" using \"print\" function."
      ]
    },
    {
      "cell_type": "code",
      "metadata": {
        "id": "rcxLGrhLpPsY",
        "colab": {
          "base_uri": "https://localhost:8080/"
        },
        "outputId": "c3497a26-bee9-472e-97ba-4ff49849ac77"
      },
      "source": [
        "import networkx as nx\n",
        "edges = [(0, 2), (1, 0), (2, 1), (3, 5), (4, 2), (5, 3), (6, 4), (7, 0), (8, 3), (9, 1)]\n",
        "G = nx.Graph()\n",
        "G.add_edges_from(edges)\n",
        "degree_sequence = sorted([d for _, d in G.degree()], reverse=True)\n",
        "min_degree = min(degree_sequence)\n",
        "print(\"Minimum degree (δ):\", min_degree)"
      ],
      "execution_count": 26,
      "outputs": [
        {
          "output_type": "stream",
          "name": "stdout",
          "text": [
            "Minimum degree (δ): 1\n"
          ]
        }
      ]
    },
    {
      "cell_type": "markdown",
      "metadata": {
        "id": "1x-5SS7apPsa"
      },
      "source": [
        "<hr />"
      ]
    },
    {
      "cell_type": "markdown",
      "metadata": {
        "id": "B5OhvbB4pPsb"
      },
      "source": [
        "### Q18\n",
        "Calculate the sum of degree of all nodes<br />\n",
        "\n",
        "\"sum\" function to calculate the sum of all degree, and <br />\n",
        "assign it to a variable called \"sum_degree\".\n",
        "\n",
        "Print \"sum_degree\" using \"print\" function.\n",
        "\n",
        "Example:<br />\n",
        "Sum of degree of all nodes = 18<br />"
      ]
    },
    {
      "cell_type": "code",
      "metadata": {
        "id": "SMqMHFpRpPsc",
        "colab": {
          "base_uri": "https://localhost:8080/"
        },
        "outputId": "01798614-38ac-40e4-9c57-3ca8df5715a4"
      },
      "source": [
        "import networkx as nx\n",
        "edges = [(0, 2), (1, 0), (2, 1), (3, 5), (4, 2), (5, 3), (6, 4), (7, 0), (8, 3), (9, 1)]\n",
        "G = nx.Graph()\n",
        "G.add_edges_from(edges)\n",
        "sum_degree = sum(dict(G.degree()).values())\n",
        "print(\"Sum of degree of all nodes =\", sum_degree)\n"
      ],
      "execution_count": 27,
      "outputs": [
        {
          "output_type": "stream",
          "name": "stdout",
          "text": [
            "Sum of degree of all nodes = 18\n"
          ]
        }
      ]
    },
    {
      "cell_type": "markdown",
      "metadata": {
        "id": "jXKgY8EypPse"
      },
      "source": [
        "<hr />"
      ]
    },
    {
      "cell_type": "markdown",
      "metadata": {
        "id": "pUZUnwnGpPsf"
      },
      "source": [
        "### Q19\n",
        "Calculate the value of 2 times the total number of edges using <br />\n",
        "\"number_of_edges\" function, and<br />\n",
        "assign it to a variable called \"edges_times2\".\n",
        "\n",
        "Print \"edges_times2\" using \"print\" function.\n",
        "\n",
        "Example:<br />\n",
        "edges_times2 = 2 x number_of_edges =  18\n",
        "\n",
        "https://networkx.github.io/documentation/stable/tutorial.html#edges"
      ]
    },
    {
      "cell_type": "code",
      "metadata": {
        "id": "bWcQBp1vpPsh",
        "colab": {
          "base_uri": "https://localhost:8080/"
        },
        "outputId": "5bdc13e8-53fc-4181-a12d-5ead9eb54a12"
      },
      "source": [
        "import networkx as nx\n",
        "edges = [(0, 2), (1, 0), (2, 1), (3, 5), (4, 2), (5, 3), (6, 4), (7, 0), (8, 3), (9, 1)]\n",
        "G = nx.Graph()\n",
        "G.add_edges_from(edges)\n",
        "edges_times2 = 2 * G.number_of_edges()\n",
        "print(\"edges_times2 =\", edges_times2)"
      ],
      "execution_count": 28,
      "outputs": [
        {
          "output_type": "stream",
          "name": "stdout",
          "text": [
            "edges_times2 = 18\n"
          ]
        }
      ]
    },
    {
      "cell_type": "markdown",
      "metadata": {
        "id": "AcUawahHpPsm"
      },
      "source": [
        "<hr />"
      ]
    },
    {
      "cell_type": "markdown",
      "metadata": {
        "id": "hWPq9PGVpPsn"
      },
      "source": [
        "### Q20\n",
        "Verify Handshaking Lemma (The degree sum formula).<br />\n",
        "$\\sum_{v \\in V} deg(v) = 2|E|$\n",
        "\n",
        "Hint: <br />\n",
        "Is sum_degree = edges_times2? <br />\n",
        "Print the value using \"print\" function."
      ]
    },
    {
      "cell_type": "code",
      "metadata": {
        "id": "IO09VxRApPso",
        "colab": {
          "base_uri": "https://localhost:8080/"
        },
        "outputId": "171d3562-a64d-4a92-817d-06e1c4672809"
      },
      "source": [
        "import networkx as nx\n",
        "\n",
        "edges = [(0, 2), (1, 0), (2, 1), (3, 5), (4, 2), (5, 3), (6, 4), (7, 0), (8, 3), (9, 1)]\n",
        "\n",
        "G = nx.Graph()\n",
        "G.add_edges_from(edges)\n",
        "\n",
        "sum_degree = sum(dict(G.degree()).values())\n",
        "\n",
        "edges_times2 = 2 * G.number_of_edges()\n",
        "\n",
        "print(\"Sum of degree of all nodes =\", sum_degree)\n",
        "print(\"2 times the number of edges =\", edges_times2)\n",
        "\n",
        "if sum_degree == edges_times2:\n",
        "    print(\"Handshaking Lemma is verified: Sum of degrees = 2 * Number of edges\")\n",
        "else:\n",
        "    print(\"Handshaking Lemma is not verified.\")\n"
      ],
      "execution_count": 29,
      "outputs": [
        {
          "output_type": "stream",
          "name": "stdout",
          "text": [
            "Sum of degree of all nodes = 18\n",
            "2 times the number of edges = 18\n",
            "Handshaking Lemma is verified: Sum of degrees = 2 * Number of edges\n"
          ]
        }
      ]
    },
    {
      "cell_type": "markdown",
      "metadata": {
        "id": "NTUTs1KwpPsq"
      },
      "source": [
        "<hr />"
      ]
    },
    {
      "cell_type": "markdown",
      "metadata": {
        "id": "_WMaZHMOpPsr"
      },
      "source": [
        "### Q21\n",
        "Draw the graph G using \"draw\" function. Add \"with_labels=True\" argument to \"draw\" function to display the node's label."
      ]
    },
    {
      "cell_type": "code",
      "metadata": {
        "id": "4UbZ1LThpPss",
        "colab": {
          "base_uri": "https://localhost:8080/",
          "height": 516
        },
        "outputId": "bc55903d-6e0b-48ad-bbe9-55b583018121"
      },
      "source": [
        "import networkx as nx\n",
        "import matplotlib.pyplot as plt\n",
        "\n",
        "edges = [(0, 2), (1, 0), (2, 1), (3, 5), (4, 2), (5, 3), (6, 4), (7, 0), (8, 3), (9, 1)]\n",
        "\n",
        "G = nx.Graph()\n",
        "G.add_edges_from(edges)\n",
        "\n",
        "nx.draw(G, with_labels=True, node_color='lightblue', node_size=500, font_size=12, font_weight='bold', edge_color='gray')\n",
        "\n",
        "plt.show()\n"
      ],
      "execution_count": 30,
      "outputs": [
        {
          "output_type": "display_data",
          "data": {
            "text/plain": [
              "<Figure size 640x480 with 1 Axes>"
            ],
            "image/png": "[encoded data removed]"
          },
          "metadata": {}
        }
      ]
    }
  ]
}